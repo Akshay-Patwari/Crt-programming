{
  "nbformat": 4,
  "nbformat_minor": 0,
  "metadata": {
    "colab": {
      "name": "python day1(2-12-2019).ipynb",
      "provenance": []
    },
    "kernelspec": {
      "name": "python3",
      "display_name": "Python 3"
    }
  },
  "cells": [
    {
      "cell_type": "markdown",
      "metadata": {
        "id": "KzI3y2T8_hNi",
        "colab_type": "text"
      },
      "source": [
        ""
      ]
    },
    {
      "cell_type": "markdown",
      "metadata": {
        "id": "akrt8Big_i56",
        "colab_type": "text"
      },
      "source": [
        "# Markdowm\n",
        "## Markdown\n",
        "### Markdown\n",
        "#### Markdown\n",
        "##### Markdown\n",
        "###### Markdown\n",
        "####### Markdown\n",
        "# markdown #\n",
        "##Markdown##\n",
        "###Markdown###\n",
        "*Markdown*\n",
        "**Markdown**\n",
        "***Markdown***\n",
        "# Markdown #\n",
        "- Normal text\n",
        "  -subtext1\n",
        "![imagehttps://dimensionless.in/wp-content/uploads/2019/03/colab_cover.png]"
      ]
    },
    {
      "cell_type": "code",
      "metadata": {
        "id": "iryvUD9wEV6S",
        "colab_type": "code",
        "outputId": "819cbcf0-dfc0-4cd4-b1d0-173599608e68",
        "colab": {
          "base_uri": "https://localhost:8080/",
          "height": 34
        }
      },
      "source": [
        "print(\"akshay\")"
      ],
      "execution_count": 0,
      "outputs": [
        {
          "output_type": "stream",
          "text": [
            "akshay\n"
          ],
          "name": "stdout"
        }
      ]
    },
    {
      "cell_type": "markdown",
      "metadata": {
        "id": "LsnUTyHJF6qT",
        "colab_type": "text"
      },
      "source": [
        "![image](https://www.google.com/url?sa=i&source=images&cd=&cad=rja&uact=8&ved=2ahUKEwiP7d-N1pjmAhVOfX0KHSXpBHcQjRx6BAgBEAQ&url=https%3A%2F%2Fmedium.com%2Fdatadriveninvestor%2Fgoogle-colaboratory-notebooks-and-sharing-it-on-github-a01b51ec6da8&psig=AOvVaw3JtBF_KM-ar_TYjqGEgwGC&ust=1575433882683198)"
      ]
    },
    {
      "cell_type": "code",
      "metadata": {
        "id": "4fs4-EKqF_qh",
        "colab_type": "code",
        "colab": {}
      },
      "source": [
        "![image]"
      ],
      "execution_count": 0,
      "outputs": []
    },
    {
      "cell_type": "markdown",
      "metadata": {
        "id": "Mk6twmXUGGmE",
        "colab_type": "text"
      },
      "source": [
        "![image](https://miro.medium.com/max/2628/0*xe0Mqv9RONH2WUae)"
      ]
    },
    {
      "cell_type": "markdown",
      "metadata": {
        "id": "OcCTAOe3GVjK",
        "colab_type": "text"
      },
      "source": [
        ""
      ]
    },
    {
      "cell_type": "markdown",
      "metadata": {
        "id": "w28YPYrCGM4r",
        "colab_type": "text"
      },
      "source": [
        "[1](https://drive.google.com/drive/my-drive)"
      ]
    },
    {
      "cell_type": "markdown",
      "metadata": {
        "id": "05nejuuBTV5w",
        "colab_type": "text"
      },
      "source": [
        "#printing"
      ]
    },
    {
      "cell_type": "code",
      "metadata": {
        "id": "K8CZ8LHWGR6A",
        "colab_type": "code",
        "outputId": "bb2a16ef-7f5e-4dea-94a3-56a49dfbed9b",
        "colab": {
          "base_uri": "https://localhost:8080/",
          "height": 34
        }
      },
      "source": [
        "print(\"akshay\")"
      ],
      "execution_count": 0,
      "outputs": [
        {
          "output_type": "stream",
          "text": [
            "akshay\n"
          ],
          "name": "stdout"
        }
      ]
    },
    {
      "cell_type": "code",
      "metadata": {
        "id": "7VJM1wW9Hi5P",
        "colab_type": "code",
        "outputId": "666cde55-01a4-44d9-ff2a-cacc3ba2a777",
        "colab": {
          "base_uri": "https://localhost:8080/",
          "height": 34
        }
      },
      "source": [
        "print(\"hello world\",end=\"  \")\n",
        "print(\"welcome to phython\")"
      ],
      "execution_count": 0,
      "outputs": [
        {
          "output_type": "stream",
          "text": [
            "hello world  welcome to phython\n"
          ],
          "name": "stdout"
        }
      ]
    },
    {
      "cell_type": "code",
      "metadata": {
        "id": "V6RchcWYIocd",
        "colab_type": "code",
        "outputId": "53a462bf-36a6-403c-8210-e34a4400a15a",
        "colab": {
          "base_uri": "https://localhost:8080/",
          "height": 34
        }
      },
      "source": [
        "a=10\n",
        "print(a)"
      ],
      "execution_count": 0,
      "outputs": [
        {
          "output_type": "stream",
          "text": [
            "10\n"
          ],
          "name": "stdout"
        }
      ]
    },
    {
      "cell_type": "markdown",
      "metadata": {
        "id": "-VofE-G4TQnb",
        "colab_type": "text"
      },
      "source": [
        "#Assignment"
      ]
    },
    {
      "cell_type": "code",
      "metadata": {
        "id": "uKQF6bHxJD_B",
        "colab_type": "code",
        "outputId": "7cbbfe8f-3acc-497a-ad24-70db480e7eab",
        "colab": {
          "base_uri": "https://localhost:8080/",
          "height": 68
        }
      },
      "source": [
        "\n",
        "a=b=c=20\n",
        "print(a)\n",
        "print(b)\n",
        "print(c)"
      ],
      "execution_count": 0,
      "outputs": [
        {
          "output_type": "stream",
          "text": [
            "20\n",
            "20\n",
            "20\n"
          ],
          "name": "stdout"
        }
      ]
    },
    {
      "cell_type": "markdown",
      "metadata": {
        "id": "r8FPDrcZTcwx",
        "colab_type": "text"
      },
      "source": [
        "#Type and Address"
      ]
    },
    {
      "cell_type": "code",
      "metadata": {
        "id": "eQ_G3s6FJPyt",
        "colab_type": "code",
        "outputId": "1168d891-892e-4a89-ceea-d68b25a4a183",
        "colab": {
          "base_uri": "https://localhost:8080/",
          "height": 34
        }
      },
      "source": [
        "a=\"akshay\"\n",
        "print(type(a))"
      ],
      "execution_count": 0,
      "outputs": [
        {
          "output_type": "stream",
          "text": [
            "<class 'str'>\n"
          ],
          "name": "stdout"
        }
      ]
    },
    {
      "cell_type": "code",
      "metadata": {
        "id": "6sN36j7WJfsn",
        "colab_type": "code",
        "outputId": "25146f5f-1177-4084-eb73-0e0b64e8a24e",
        "colab": {
          "base_uri": "https://localhost:8080/",
          "height": 51
        }
      },
      "source": [
        "a=b=10\n",
        "print(id(a))\n",
        "print(id(b))"
      ],
      "execution_count": 0,
      "outputs": [
        {
          "output_type": "stream",
          "text": [
            "10914784\n",
            "10914784\n"
          ],
          "name": "stdout"
        }
      ]
    },
    {
      "cell_type": "markdown",
      "metadata": {
        "id": "IqQIb6TfTDxF",
        "colab_type": "text"
      },
      "source": [
        "#string\n"
      ]
    },
    {
      "cell_type": "code",
      "metadata": {
        "id": "0xPLRRZLKd8l",
        "colab_type": "code",
        "outputId": "25e94de1-41c5-4639-dfe3-7fc8d6c46b46",
        "colab": {
          "base_uri": "https://localhost:8080/",
          "height": 34
        }
      },
      "source": [
        "name=\"akshay\"\n",
        "age=\"20\"\n",
        "print(\"Name is\",name,end=\" and \")\n",
        "print(\"Age is\",age)"
      ],
      "execution_count": 0,
      "outputs": [
        {
          "output_type": "stream",
          "text": [
            "Name is akshay and Age is 20\n"
          ],
          "name": "stdout"
        }
      ]
    },
    {
      "cell_type": "markdown",
      "metadata": {
        "id": "YqhDTP3LS6bl",
        "colab_type": "text"
      },
      "source": [
        "# Input\n",
        "\n"
      ]
    },
    {
      "cell_type": "code",
      "metadata": {
        "id": "2Qsuz3nBK1dx",
        "colab_type": "code",
        "outputId": "c0c1501f-e8ef-4c2a-c072-806d9094974d",
        "colab": {
          "base_uri": "https://localhost:8080/",
          "height": 51
        }
      },
      "source": [
        "input(\"enter the string\")"
      ],
      "execution_count": 0,
      "outputs": [
        {
          "output_type": "stream",
          "text": [
            "enter the stringphython\n"
          ],
          "name": "stdout"
        },
        {
          "output_type": "execute_result",
          "data": {
            "text/plain": [
              "'phython'"
            ]
          },
          "metadata": {
            "tags": []
          },
          "execution_count": 45
        }
      ]
    },
    {
      "cell_type": "code",
      "metadata": {
        "id": "g6ZVXh5HPf0W",
        "colab_type": "code",
        "outputId": "d6d88a79-1dbb-4211-989e-a91e71eaa4e0",
        "colab": {
          "base_uri": "https://localhost:8080/",
          "height": 85
        }
      },
      "source": [
        "a=int(input(\"enter a number:\"))\n",
        "b=int(input(\"emter a number:\"))\n",
        "print(type(a))\n",
        "c=a+b\n",
        "print(c)"
      ],
      "execution_count": 0,
      "outputs": [
        {
          "output_type": "stream",
          "text": [
            "enter a number:10\n",
            "emter a number:20\n",
            "<class 'int'>\n",
            "30\n"
          ],
          "name": "stdout"
        }
      ]
    },
    {
      "cell_type": "markdown",
      "metadata": {
        "id": "j56Tcu7LTjq0",
        "colab_type": "text"
      },
      "source": [
        "#Data Types"
      ]
    },
    {
      "cell_type": "code",
      "metadata": {
        "id": "aZBItuSKToDs",
        "colab_type": "code",
        "colab": {}
      },
      "source": [
        "* int\n",
        "* float\n",
        "* string\n",
        "* boolean\n",
        "* complex\n"
      ],
      "execution_count": 0,
      "outputs": []
    },
    {
      "cell_type": "markdown",
      "metadata": {
        "id": "2TC6S82RT3yY",
        "colab_type": "text"
      },
      "source": [
        "#String"
      ]
    },
    {
      "cell_type": "code",
      "metadata": {
        "id": "y56FQlyYT6Tp",
        "colab_type": "code",
        "outputId": "9ae4ffdf-789a-4d9a-f3b8-6b402451cdeb",
        "colab": {
          "base_uri": "https://localhost:8080/",
          "height": 51
        }
      },
      "source": [
        "a=input(\"enter a name\")\n",
        "print(a)"
      ],
      "execution_count": 0,
      "outputs": [
        {
          "output_type": "stream",
          "text": [
            "enter a nameakshay\n",
            "akshay\n"
          ],
          "name": "stdout"
        }
      ]
    },
    {
      "cell_type": "markdown",
      "metadata": {
        "id": "xRemu5Z_UV2u",
        "colab_type": "text"
      },
      "source": [
        "#complex"
      ]
    },
    {
      "cell_type": "code",
      "metadata": {
        "id": "8D-VAz-WUYVQ",
        "colab_type": "code",
        "outputId": "98b80321-a0e2-49f8-dbde-6b5087940b34",
        "colab": {
          "base_uri": "https://localhost:8080/",
          "height": 34
        }
      },
      "source": [
        "x=2+3j\n",
        "type(x)"
      ],
      "execution_count": 0,
      "outputs": [
        {
          "output_type": "execute_result",
          "data": {
            "text/plain": [
              "complex"
            ]
          },
          "metadata": {
            "tags": []
          },
          "execution_count": 56
        }
      ]
    },
    {
      "cell_type": "code",
      "metadata": {
        "id": "U4zOckShUu2P",
        "colab_type": "code",
        "outputId": "55cbea9d-0ef0-4ba6-b214-b75fa71ce7d6",
        "colab": {
          "base_uri": "https://localhost:8080/",
          "height": 34
        }
      },
      "source": [
        "c1=3+5j\n",
        "c2=5+3j\n",
        "type(c1)\n",
        "x=(c1+c2)\n",
        "print(x)"
      ],
      "execution_count": 0,
      "outputs": [
        {
          "output_type": "stream",
          "text": [
            "(8+8j)\n"
          ],
          "name": "stdout"
        }
      ]
    },
    {
      "cell_type": "markdown",
      "metadata": {
        "id": "ppRmvEm1WveD",
        "colab_type": "text"
      },
      "source": [
        "#Type Casting"
      ]
    },
    {
      "cell_type": "code",
      "metadata": {
        "id": "5aLz_UTOWzGL",
        "colab_type": "code",
        "outputId": "f31e7273-e545-45fe-ba3c-e981a7e878c9",
        "colab": {
          "base_uri": "https://localhost:8080/",
          "height": 34
        }
      },
      "source": [
        "a=100\n",
        "print(type(a))"
      ],
      "execution_count": 0,
      "outputs": [
        {
          "output_type": "stream",
          "text": [
            "<class 'int'>\n"
          ],
          "name": "stdout"
        }
      ]
    },
    {
      "cell_type": "code",
      "metadata": {
        "id": "602bOsZ5W4FT",
        "colab_type": "code",
        "outputId": "7a7a0c8c-472f-4f06-f01f-316e97b3849f",
        "colab": {
          "base_uri": "https://localhost:8080/",
          "height": 34
        }
      },
      "source": [
        "b=str(100)\n",
        "print(type(b))"
      ],
      "execution_count": 0,
      "outputs": [
        {
          "output_type": "stream",
          "text": [
            "<class 'str'>\n"
          ],
          "name": "stdout"
        }
      ]
    },
    {
      "cell_type": "code",
      "metadata": {
        "id": "PBTGrr-kXDAT",
        "colab_type": "code",
        "outputId": "d954c73e-2b32-44b7-ce91-92eb7dbaa072",
        "colab": {
          "base_uri": "https://localhost:8080/",
          "height": 34
        }
      },
      "source": [
        "c=float(100)\n",
        "print(type(c))"
      ],
      "execution_count": 0,
      "outputs": [
        {
          "output_type": "stream",
          "text": [
            "<class 'float'>\n"
          ],
          "name": "stdout"
        }
      ]
    },
    {
      "cell_type": "code",
      "metadata": {
        "id": "8utR7wqaXKjU",
        "colab_type": "code",
        "outputId": "005712c1-9a32-4605-9fe1-2ca7ee813783",
        "colab": {
          "base_uri": "https://localhost:8080/",
          "height": 34
        }
      },
      "source": [
        "a=\"akshay\"\n",
        "print(type(a))"
      ],
      "execution_count": 0,
      "outputs": [
        {
          "output_type": "stream",
          "text": [
            "<class 'str'>\n"
          ],
          "name": "stdout"
        }
      ]
    },
    {
      "cell_type": "code",
      "metadata": {
        "id": "XylAmRU4XQoi",
        "colab_type": "code",
        "outputId": "15efa3fb-6e59-4a67-9774-99fefe03773a",
        "colab": {
          "base_uri": "https://localhost:8080/",
          "height": 51
        }
      },
      "source": [
        "b=int(10.5)\n",
        "print(type(b))\n",
        "print(b)"
      ],
      "execution_count": 0,
      "outputs": [
        {
          "output_type": "stream",
          "text": [
            "<class 'int'>\n",
            "10\n"
          ],
          "name": "stdout"
        }
      ]
    },
    {
      "cell_type": "markdown",
      "metadata": {
        "id": "qwZF7cerYHV_",
        "colab_type": "text"
      },
      "source": [
        "#Length"
      ]
    },
    {
      "cell_type": "code",
      "metadata": {
        "id": "C2HbuAUwYIzM",
        "colab_type": "code",
        "outputId": "13b6ec97-443d-49e1-9bf9-c96c33fd5019",
        "colab": {
          "base_uri": "https://localhost:8080/",
          "height": 34
        }
      },
      "source": [
        "a=\"1234\"\n",
        "len(a)"
      ],
      "execution_count": 0,
      "outputs": [
        {
          "output_type": "execute_result",
          "data": {
            "text/plain": [
              "4"
            ]
          },
          "metadata": {
            "tags": []
          },
          "execution_count": 74
        }
      ]
    },
    {
      "cell_type": "markdown",
      "metadata": {
        "id": "YMuggcq6ZiRs",
        "colab_type": "text"
      },
      "source": [
        "#operators#"
      ]
    },
    {
      "cell_type": "markdown",
      "metadata": {
        "id": "dOMbhacOa1f1",
        "colab_type": "text"
      },
      "source": [
        "#Airthematic operations\n",
        "### + Addition\n",
        "### - Subtraction\n",
        "### *Multpilication\n",
        "### / Division\n",
        "### // Floor Division\n",
        "### % Modular Division\n",
        "# Logocal Operators\n",
        "### and,or,not\n",
        "# Realtional Operators\n",
        "### <,>,<=,>=\n",
        "# Membership Operators\n",
        "### in,not in"
      ]
    },
    {
      "cell_type": "markdown",
      "metadata": {
        "id": "8HLlE4chcAzs",
        "colab_type": "text"
      },
      "source": [
        "#Division"
      ]
    },
    {
      "cell_type": "code",
      "metadata": {
        "id": "2LNQenqVb6vB",
        "colab_type": "code",
        "outputId": "90276342-6fe5-4a6b-b001-d567910b5038",
        "colab": {
          "base_uri": "https://localhost:8080/",
          "height": 34
        }
      },
      "source": [
        "a=4\n",
        "b=2\n",
        "c=(a/b)\n",
        "print(a/b)"
      ],
      "execution_count": 0,
      "outputs": [
        {
          "output_type": "stream",
          "text": [
            "2.0\n"
          ],
          "name": "stdout"
        }
      ]
    },
    {
      "cell_type": "code",
      "metadata": {
        "id": "KabRe7ZfcJlz",
        "colab_type": "code",
        "outputId": "97b6b16b-580b-4d1e-9a47-e60fe6516100",
        "colab": {
          "base_uri": "https://localhost:8080/",
          "height": 34
        }
      },
      "source": [
        "print(a%b)"
      ],
      "execution_count": 0,
      "outputs": [
        {
          "output_type": "stream",
          "text": [
            "0\n"
          ],
          "name": "stdout"
        }
      ]
    },
    {
      "cell_type": "code",
      "metadata": {
        "id": "3hJIYJ8PcT8E",
        "colab_type": "code",
        "outputId": "3f589217-801a-4937-b0e9-78798b5cd1ff",
        "colab": {
          "base_uri": "https://localhost:8080/",
          "height": 34
        }
      },
      "source": [
        "a=3.2\n",
        "b=2.4\n",
        "print(a//b)"
      ],
      "execution_count": 0,
      "outputs": [
        {
          "output_type": "stream",
          "text": [
            "1.0\n"
          ],
          "name": "stdout"
        }
      ]
    },
    {
      "cell_type": "code",
      "metadata": {
        "id": "86O5ZskMcbpl",
        "colab_type": "code",
        "outputId": "1ad8aa5c-1c70-4a08-ad86-58a3390fa458",
        "colab": {
          "base_uri": "https://localhost:8080/",
          "height": 34
        }
      },
      "source": [
        "print(a/b)"
      ],
      "execution_count": 0,
      "outputs": [
        {
          "output_type": "stream",
          "text": [
            "1.3333333333333335\n"
          ],
          "name": "stdout"
        }
      ]
    },
    {
      "cell_type": "markdown",
      "metadata": {
        "id": "oX_nK0POdH7q",
        "colab_type": "text"
      },
      "source": [
        "# Logical Operators"
      ]
    },
    {
      "cell_type": "code",
      "metadata": {
        "id": "dGLjjFhqdM-Q",
        "colab_type": "code",
        "outputId": "15c9919e-dbfc-4ca0-ecdb-1ed17d8ed770",
        "colab": {
          "base_uri": "https://localhost:8080/",
          "height": 68
        }
      },
      "source": [
        "a=2\n",
        "b=5\n",
        "print(a<1 and b<6)\n",
        "print(a<5 or b<6)\n",
        "print(not(a<1))"
      ],
      "execution_count": 0,
      "outputs": [
        {
          "output_type": "stream",
          "text": [
            "False\n",
            "True\n",
            "True\n"
          ],
          "name": "stdout"
        }
      ]
    },
    {
      "cell_type": "markdown",
      "metadata": {
        "id": "iTMMG7xQejJ9",
        "colab_type": "text"
      },
      "source": [
        "# Membership Operators"
      ]
    },
    {
      "cell_type": "code",
      "metadata": {
        "id": "4zSeIbrXeo3-",
        "colab_type": "code",
        "outputId": "0654fae3-8c7d-4b05-f072-a3acc358a9fc",
        "colab": {
          "base_uri": "https://localhost:8080/",
          "height": 34
        }
      },
      "source": [
        "a=\"akshay\"\n",
        "print('k' in a)"
      ],
      "execution_count": 0,
      "outputs": [
        {
          "output_type": "stream",
          "text": [
            "True\n"
          ],
          "name": "stdout"
        }
      ]
    },
    {
      "cell_type": "code",
      "metadata": {
        "id": "e1wEtlY3e1CJ",
        "colab_type": "code",
        "outputId": "45d2b2b5-657d-48ed-b4e5-1be1cd0198a8",
        "colab": {
          "base_uri": "https://localhost:8080/",
          "height": 34
        }
      },
      "source": [
        "print('k' not in a)"
      ],
      "execution_count": 0,
      "outputs": [
        {
          "output_type": "stream",
          "text": [
            "False\n"
          ],
          "name": "stdout"
        }
      ]
    },
    {
      "cell_type": "markdown",
      "metadata": {
        "id": "sW3_qlhFfhzt",
        "colab_type": "text"
      },
      "source": [
        "# Conditional Statements"
      ]
    },
    {
      "cell_type": "markdown",
      "metadata": {
        "id": "SZVK42SxgEEX",
        "colab_type": "text"
      },
      "source": [
        "### if\n",
        "### else if\n",
        "### elif"
      ]
    },
    {
      "cell_type": "markdown",
      "metadata": {
        "id": "oYzyYVmhf155",
        "colab_type": "text"
      },
      "source": [
        "# **Syntax(if)"
      ]
    },
    {
      "cell_type": "markdown",
      "metadata": {
        "id": "PwOio2yLgMoF",
        "colab_type": "text"
      },
      "source": [
        "* if condition: \n",
        " * statements\n",
        "\n"
      ]
    },
    {
      "cell_type": "markdown",
      "metadata": {
        "id": "guRrUexjgZH3",
        "colab_type": "text"
      },
      "source": [
        "#Syntax(If else)"
      ]
    },
    {
      "cell_type": "markdown",
      "metadata": {
        "id": "7jw9C3WthJWw",
        "colab_type": "text"
      },
      "source": [
        "* if conditon:\n",
        "  * Statements\n",
        "* else:\n",
        "  * Statements"
      ]
    },
    {
      "cell_type": "markdown",
      "metadata": {
        "id": "wsT_TZkKhljR",
        "colab_type": "text"
      },
      "source": [
        "# Syntax(elif)"
      ]
    },
    {
      "cell_type": "markdown",
      "metadata": {
        "id": "zeRQbVnrhugX",
        "colab_type": "text"
      },
      "source": [
        "* if conditon:\n",
        " * Statements\n",
        "*elif:\n",
        "\n",
        " * Statements"
      ]
    },
    {
      "cell_type": "code",
      "metadata": {
        "id": "3mt0HWvIiOyc",
        "colab_type": "code",
        "outputId": "58fac74c-e42a-4ac6-8b98-7d378b66eb75",
        "colab": {
          "base_uri": "https://localhost:8080/",
          "height": 34
        }
      },
      "source": [
        "a=100\n",
        "if a>0:\n",
        "  print(\"positive\")\n",
        "elif a<0:\n",
        "  print(\"negative\")\n",
        "else:\n",
        "    print(\"zero\")"
      ],
      "execution_count": 0,
      "outputs": [
        {
          "output_type": "stream",
          "text": [
            "positive\n"
          ],
          "name": "stdout"
        }
      ]
    },
    {
      "cell_type": "markdown",
      "metadata": {
        "id": "K6A5NlhYjd6X",
        "colab_type": "text"
      },
      "source": [
        "#Assignment Questions\n",
        "* To check given num is evn or not\n",
        "* To find given num is multiple of 3 and 5\n",
        "* To find given year is leap year or not\n",
        "* Take three num as input and find the greatest of three\n",
        "* Read the character and find it is vowel or consonant"
      ]
    },
    {
      "cell_type": "code",
      "metadata": {
        "id": "gFildYj7ioh8",
        "colab_type": "code",
        "outputId": "7fb9c116-af1b-46eb-bddc-93753f5d4730",
        "colab": {
          "base_uri": "https://localhost:8080/",
          "height": 51
        }
      },
      "source": [
        "a=int(input(\"enter a value\"))\n",
        "if (a%2==0):\n",
        "  print(\"even number\")\n",
        "else:\n",
        "  print(\"odd number\")"
      ],
      "execution_count": 0,
      "outputs": [
        {
          "output_type": "stream",
          "text": [
            "enter a value55\n",
            "odd number\n"
          ],
          "name": "stdout"
        }
      ]
    },
    {
      "cell_type": "code",
      "metadata": {
        "id": "Cab_rSMVjMzc",
        "colab_type": "code",
        "colab": {}
      },
      "source": [
        ""
      ],
      "execution_count": 0,
      "outputs": []
    }
  ]
}