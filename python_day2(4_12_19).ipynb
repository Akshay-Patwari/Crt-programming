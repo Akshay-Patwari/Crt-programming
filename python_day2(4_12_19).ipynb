{
  "nbformat": 4,
  "nbformat_minor": 0,
  "metadata": {
    "colab": {
      "name": "python day2(4-12-19).ipynb",
      "provenance": []
    },
    "kernelspec": {
      "name": "python3",
      "display_name": "Python 3"
    }
  },
  "cells": [
    {
      "cell_type": "code",
      "metadata": {
        "id": "UjaM2SPKWmDz",
        "colab_type": "code",
        "colab": {}
      },
      "source": [
        ""
      ],
      "execution_count": 0,
      "outputs": []
    },
    {
      "cell_type": "markdown",
      "metadata": {
        "id": "0IU1TWFeWnzX",
        "colab_type": "text"
      },
      "source": [
        "#While Loops"
      ]
    },
    {
      "cell_type": "markdown",
      "metadata": {
        "id": "VFJvq5Z_Xv5m",
        "colab_type": "text"
      },
      "source": [
        "## While Syntax\n",
        "* while condition:\n",
        "  * statement\n",
        "\n"
      ]
    },
    {
      "cell_type": "markdown",
      "metadata": {
        "id": "DvldD2ajYQvW",
        "colab_type": "text"
      },
      "source": [
        "# Print num from 1 to n"
      ]
    },
    {
      "cell_type": "code",
      "metadata": {
        "id": "t3bC-OybYXif",
        "colab_type": "code",
        "colab": {
          "base_uri": "https://localhost:8080/",
          "height": 119
        },
        "outputId": "ccfec3bd-a1df-490e-e0d8-7b7641e21713"
      },
      "source": [
        "n=int(input(\" \"))\n",
        "i=1\n",
        "while i<=n:\n",
        "    print(i)\n",
        "    i=i+1"
      ],
      "execution_count": 5,
      "outputs": [
        {
          "output_type": "stream",
          "text": [
            " 5\n",
            "1\n",
            "2\n",
            "3\n",
            "4\n",
            "5\n"
          ],
          "name": "stdout"
        }
      ]
    },
    {
      "cell_type": "markdown",
      "metadata": {
        "id": "u5LPXQQJZA6R",
        "colab_type": "text"
      },
      "source": [
        "# Find out the sum of the digits"
      ]
    },
    {
      "cell_type": "code",
      "metadata": {
        "id": "DfjMGCjBXFtN",
        "colab_type": "code",
        "colab": {
          "base_uri": "https://localhost:8080/",
          "height": 34
        },
        "outputId": "346ed3cd-bb25-46d8-d9ba-6bfbbcdf4b02"
      },
      "source": [
        "n=123\n",
        "sum=0\n",
        "while n!=0:\n",
        "   r=n%10\n",
        "   sum=sum+r\n",
        "   n=n//10\n",
        "print(sum)"
      ],
      "execution_count": 4,
      "outputs": [
        {
          "output_type": "stream",
          "text": [
            "6\n"
          ],
          "name": "stdout"
        }
      ]
    },
    {
      "cell_type": "markdown",
      "metadata": {
        "id": "RIHzBxIqZIFP",
        "colab_type": "text"
      },
      "source": [
        "# Print the digits of the input"
      ]
    },
    {
      "cell_type": "code",
      "metadata": {
        "id": "IdcuzeSpZLRp",
        "colab_type": "code",
        "colab": {
          "base_uri": "https://localhost:8080/",
          "height": 85
        },
        "outputId": "ae6013a0-2784-4c18-b24c-cb092b6e0cd5"
      },
      "source": [
        "n=int(input(\" \"))\n",
        "while n!=0:\n",
        "  r=n%10\n",
        "  print(r)\n",
        "  n=n//10\n"
      ],
      "execution_count": 13,
      "outputs": [
        {
          "output_type": "stream",
          "text": [
            " 123\n",
            "3\n",
            "2\n",
            "1\n"
          ],
          "name": "stdout"
        }
      ]
    },
    {
      "cell_type": "markdown",
      "metadata": {
        "id": "TTxWMA07b7nf",
        "colab_type": "text"
      },
      "source": [
        "#For Loop"
      ]
    },
    {
      "cell_type": "markdown",
      "metadata": {
        "id": "qcQCIBRJce5Q",
        "colab_type": "text"
      },
      "source": [
        "##Syntax:\n",
        " * for varaiable_name in iterable_obj:\n",
        "  * statements\n",
        " * for varaiable_name is range(start,stop,step):\n",
        "  * staements"
      ]
    },
    {
      "cell_type": "markdown",
      "metadata": {
        "id": "hEymWoFGdCRG",
        "colab_type": "text"
      },
      "source": [
        "# Print N numbers using for loop"
      ]
    },
    {
      "cell_type": "code",
      "metadata": {
        "id": "g-y-Nbu8dFsd",
        "colab_type": "code",
        "colab": {
          "base_uri": "https://localhost:8080/",
          "height": 170
        },
        "outputId": "cb533dd6-3e49-4f8b-ea6b-200952b42ef3"
      },
      "source": [
        "for i in range(1,10):\n",
        "  print(i)"
      ],
      "execution_count": 19,
      "outputs": [
        {
          "output_type": "stream",
          "text": [
            "1\n",
            "2\n",
            "3\n",
            "4\n",
            "5\n",
            "6\n",
            "7\n",
            "8\n",
            "9\n"
          ],
          "name": "stdout"
        }
      ]
    },
    {
      "cell_type": "code",
      "metadata": {
        "id": "WpW2XL5cdSHd",
        "colab_type": "code",
        "colab": {
          "base_uri": "https://localhost:8080/",
          "height": 187
        },
        "outputId": "ae364577-4839-4859-fd87-b8db86d5270e"
      },
      "source": [
        "for i in range(1,10+1):\n",
        "  print(i)"
      ],
      "execution_count": 20,
      "outputs": [
        {
          "output_type": "stream",
          "text": [
            "1\n",
            "2\n",
            "3\n",
            "4\n",
            "5\n",
            "6\n",
            "7\n",
            "8\n",
            "9\n",
            "10\n"
          ],
          "name": "stdout"
        }
      ]
    },
    {
      "cell_type": "code",
      "metadata": {
        "id": "lQ4vkt1bdqlN",
        "colab_type": "code",
        "colab": {
          "base_uri": "https://localhost:8080/",
          "height": 102
        },
        "outputId": "e884cc9a-bdb7-48b3-e109-1713f35a719c"
      },
      "source": [
        "for i in range(1,10+1,2):\n",
        "  print(i)"
      ],
      "execution_count": 21,
      "outputs": [
        {
          "output_type": "stream",
          "text": [
            "1\n",
            "3\n",
            "5\n",
            "7\n",
            "9\n"
          ],
          "name": "stdout"
        }
      ]
    },
    {
      "cell_type": "code",
      "metadata": {
        "id": "UOnpO5GIdxld",
        "colab_type": "code",
        "colab": {
          "base_uri": "https://localhost:8080/",
          "height": 119
        },
        "outputId": "4330d08d-25d3-49c9-8070-97a6e8df8582"
      },
      "source": [
        "for i in \"python\":\n",
        "  print(i)"
      ],
      "execution_count": 24,
      "outputs": [
        {
          "output_type": "stream",
          "text": [
            "p\n",
            "y\n",
            "t\n",
            "h\n",
            "o\n",
            "n\n"
          ],
          "name": "stdout"
        }
      ]
    },
    {
      "cell_type": "markdown",
      "metadata": {
        "id": "OODotT0Tepvp",
        "colab_type": "text"
      },
      "source": [
        "#when we do not know the exact num of iterations we use while loop\n",
        "# when we know thw exact num of iterations we use for loop"
      ]
    },
    {
      "cell_type": "markdown",
      "metadata": {
        "id": "iXs9-ZkyfJN8",
        "colab_type": "text"
      },
      "source": [
        "# Functions"
      ]
    },
    {
      "cell_type": "markdown",
      "metadata": {
        "id": "Pb0wY0uMfYF_",
        "colab_type": "text"
      },
      "source": [
        "## Advantages\n",
        " * Debugging\n",
        " * Resusability\n",
        " * Effeciency of program\n",
        " * Length of program will be divided into sub divisions"
      ]
    },
    {
      "cell_type": "markdown",
      "metadata": {
        "id": "WyqqQylhgAf3",
        "colab_type": "text"
      },
      "source": [
        "## Two types of functions:\n",
        " * Built-in functions\n",
        " * User defines functions"
      ]
    },
    {
      "cell_type": "markdown",
      "metadata": {
        "id": "EV901gEOglp3",
        "colab_type": "text"
      },
      "source": [
        "### Function:It self contained block  of statements to perform a task\n",
        "### syntax\n",
        " * def function_name(parameters):\n",
        "  * statements\n",
        "  * Return(It can return multile values not mandatory)"
      ]
    },
    {
      "cell_type": "markdown",
      "metadata": {
        "id": "z7zDSjbQij_X",
        "colab_type": "text"
      },
      "source": [
        "# Addition of two numbers using functions\n"
      ]
    },
    {
      "cell_type": "code",
      "metadata": {
        "id": "PhWF1hhWiqwY",
        "colab_type": "code",
        "colab": {
          "base_uri": "https://localhost:8080/",
          "height": 34
        },
        "outputId": "20744b59-9782-49cb-ace3-28f58bb4bf44"
      },
      "source": [
        "def addition(a,b):\n",
        "  c = a+b\n",
        "  print(c)\n",
        "addition(1,2)"
      ],
      "execution_count": 28,
      "outputs": [
        {
          "output_type": "stream",
          "text": [
            "3\n"
          ],
          "name": "stdout"
        }
      ]
    },
    {
      "cell_type": "markdown",
      "metadata": {
        "id": "DZ5uoWAzjfJP",
        "colab_type": "text"
      },
      "source": [
        "# Read a number N and find out sum of all even digits\n"
      ]
    },
    {
      "cell_type": "code",
      "metadata": {
        "id": "8gNQge8Pjq_t",
        "colab_type": "code",
        "colab": {
          "base_uri": "https://localhost:8080/",
          "height": 34
        },
        "outputId": "26e759c5-b929-4f82-efb0-8969a0ef6bdb"
      },
      "source": [
        "def extracting(n):\n",
        "  sum=0\n",
        "  while n!=0:\n",
        "    r=n%10\n",
        "    if r%2==0:\n",
        "        sum=sum+r\n",
        "    n=n//10\n",
        "  return(sum)\n",
        "extracting(2234)"
      ],
      "execution_count": 38,
      "outputs": [
        {
          "output_type": "execute_result",
          "data": {
            "text/plain": [
              "8"
            ]
          },
          "metadata": {
            "tags": []
          },
          "execution_count": 38
        }
      ]
    },
    {
      "cell_type": "markdown",
      "metadata": {
        "id": "v1Bd-kQgm0sJ",
        "colab_type": "text"
      },
      "source": [
        "## Return will store the value to the memory\n",
        "## Print will just print the output to the console"
      ]
    },
    {
      "cell_type": "markdown",
      "metadata": {
        "id": "zOshi49dnqeQ",
        "colab_type": "text"
      },
      "source": [
        "# Read a number and print the largest digit"
      ]
    },
    {
      "cell_type": "code",
      "metadata": {
        "id": "wJzBe7YqnxzO",
        "colab_type": "code",
        "colab": {
          "base_uri": "https://localhost:8080/",
          "height": 34
        },
        "outputId": "8922bf85-e1e9-410e-9b86-d9bfdb355e83"
      },
      "source": [
        "def largestnum(n):\n",
        "  large=0\n",
        "  while n!=0:\n",
        "    r=n%10\n",
        "    if large<r:\n",
        "      large=r\n",
        "    n=(n//10)\n",
        "  return(large)\n",
        "largestnum(521893)"
      ],
      "execution_count": 48,
      "outputs": [
        {
          "output_type": "execute_result",
          "data": {
            "text/plain": [
              "9"
            ]
          },
          "metadata": {
            "tags": []
          },
          "execution_count": 48
        }
      ]
    },
    {
      "cell_type": "markdown",
      "metadata": {
        "id": "mmg8xX4drD3d",
        "colab_type": "text"
      },
      "source": [
        "# Read a number as input\n",
        "# Output:palindrime or not"
      ]
    },
    {
      "cell_type": "code",
      "metadata": {
        "id": "bDuKmoUPrPrY",
        "colab_type": "code",
        "colab": {
          "base_uri": "https://localhost:8080/",
          "height": 34
        },
        "outputId": "f37d6fc1-d515-4e9f-a19c-d2e72c6352f8"
      },
      "source": [
        "def palindrome(n):\n",
        "  rev=0\n",
        "  b=n\n",
        "  while n!=0:\n",
        "    r=n%10\n",
        "    rev=rev*10+r\n",
        "    n=n//10\n",
        "  if rev==b:\n",
        "      print(\"palindrome\")\n",
        "palindrome(121)"
      ],
      "execution_count": 60,
      "outputs": [
        {
          "output_type": "stream",
          "text": [
            "palindrome\n"
          ],
          "name": "stdout"
        }
      ]
    },
    {
      "cell_type": "code",
      "metadata": {
        "id": "AGOFTc2mtySA",
        "colab_type": "code",
        "colab": {}
      },
      "source": [
        ""
      ],
      "execution_count": 0,
      "outputs": []
    }
  ]
}